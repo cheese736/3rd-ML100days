{
 "cells": [
  {
   "cell_type": "markdown",
   "metadata": {},
   "source": [
    "## [作業目標]\n",
    "了解機器學習適合應用的領域與範疇。"
   ]
  },
  {
   "cell_type": "markdown",
   "metadata": {},
   "source": [
    "## [作業重點]\n",
    "透過瞭解機器學習的運作方式，找出非常適用機器學習應用的領域及其原因"
   ]
  },
  {
   "cell_type": "markdown",
   "metadata": {},
   "source": [
    "## 作業\n",
    "請找出一個你認為機器學習可以發光發熱的領域並闡述原因? "
   ]
  },
  {
   "cell_type": "code",
   "execution_count": null,
   "metadata": {},
   "outputs": [],
   "source": [
    "疾病預測\n",
    "\n",
    "1. 即使是同種疾病，個體間的表現往往不盡相同，以傳統的方法難以找尋規律，但其確實存在某種模式。\n",
    "\n",
    "2. 人體可視為屬性繁多且複雜的物件，相較於人，以機器處理高維度資料更加合適。\n",
    "\n",
    "3. 也許存在對應某疾病的關鍵特徵，但由於他的高複雜度，對人類來說非常不直觀，所以至今尚未被發現。\n",
    "\n",
    "4. 資料量夠大。\n",
    "\n",
    "5. 量身訂做。機器學習可以實現預測模型的個人化。\n"
   ]
  }
 ],
 "metadata": {
  "kernelspec": {
   "display_name": "Python 3",
   "language": "python",
   "name": "python3"
  },
  "language_info": {
   "codemirror_mode": {
    "name": "ipython",
    "version": 3
   },
   "file_extension": ".py",
   "mimetype": "text/x-python",
   "name": "python",
   "nbconvert_exporter": "python",
   "pygments_lexer": "ipython3",
   "version": "3.7.3"
  }
 },
 "nbformat": 4,
 "nbformat_minor": 2
}
