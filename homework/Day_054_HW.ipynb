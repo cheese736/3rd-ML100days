{
 "cells": [
  {
   "cell_type": "markdown",
   "metadata": {},
   "source": [
    "# 作業\n",
    "* 試著想想看, 非監督學習是否有可能使用評價函數 (Metric) 來鑑別好壞呢?  \n",
    "(Hint : 可以分為 \"有目標值\" 與 \"無目標值\" 兩個方向思考)"
   ]
  },
  {
   "cell_type": "markdown",
   "metadata": {
    "collapsed": true
   },
   "source": [
    "是有可能\n",
    "\n",
    "無目標值:\n",
    "如果演算的結果正確，我們可以預期同一群內的data變異性較低，長得比較像，而不同群組之間的距離越遠越好，有點像在做變異數分析那種感覺，端看如何決定距離的計算方式。\n",
    "\n",
    "有目標值:\n",
    "基本的期望和無目標值是一樣的，只不過在有目標值的狀況下我們可以將目標值放入最後的分群結果，檢視每個群組內的標籤純度，作為一個評價依據。"
   ]
  }
 ],
 "metadata": {
  "kernelspec": {
   "display_name": "Python 3",
   "language": "python",
   "name": "python3"
  },
  "language_info": {
   "codemirror_mode": {
    "name": "ipython",
    "version": 3
   },
   "file_extension": ".py",
   "mimetype": "text/x-python",
   "name": "python",
   "nbconvert_exporter": "python",
   "pygments_lexer": "ipython3",
   "version": "3.7.5"
  }
 },
 "nbformat": 4,
 "nbformat_minor": 1
}
